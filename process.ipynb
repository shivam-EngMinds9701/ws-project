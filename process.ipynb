{
 "cells": [
  {
   "cell_type": "code",
   "execution_count": 1,
   "metadata": {},
   "outputs": [],
   "source": [
    "import pandas as pd\n"
   ]
  },
  {
   "cell_type": "code",
   "execution_count": 8,
   "metadata": {},
   "outputs": [
    {
     "data": {
      "text/html": [
       "<div>\n",
       "<style scoped>\n",
       "    .dataframe tbody tr th:only-of-type {\n",
       "        vertical-align: middle;\n",
       "    }\n",
       "\n",
       "    .dataframe tbody tr th {\n",
       "        vertical-align: top;\n",
       "    }\n",
       "\n",
       "    .dataframe thead th {\n",
       "        text-align: right;\n",
       "    }\n",
       "</style>\n",
       "<table border=\"1\" class=\"dataframe\">\n",
       "  <thead>\n",
       "    <tr style=\"text-align: right;\">\n",
       "      <th></th>\n",
       "      <th>product_name</th>\n",
       "      <th>brand_name</th>\n",
       "      <th>aggregate_rating</th>\n",
       "      <th>review_count</th>\n",
       "      <th>price</th>\n",
       "      <th>price_currency</th>\n",
       "    </tr>\n",
       "  </thead>\n",
       "  <tbody>\n",
       "    <tr>\n",
       "      <th>0</th>\n",
       "      <td>ASUS Chromebook Intel Celeron Dual Core N4500 ...</td>\n",
       "      <td>ASUS</td>\n",
       "      <td>3.8</td>\n",
       "      <td>95</td>\n",
       "      <td>15990</td>\n",
       "      <td>INR</td>\n",
       "    </tr>\n",
       "    <tr>\n",
       "      <th>1</th>\n",
       "      <td>DELL Inspiron 3520 Intel Core i3 12th Gen 1215...</td>\n",
       "      <td>DELL</td>\n",
       "      <td>4.2</td>\n",
       "      <td>144</td>\n",
       "      <td>35560</td>\n",
       "      <td>INR</td>\n",
       "    </tr>\n",
       "    <tr>\n",
       "      <th>2</th>\n",
       "      <td>Acer Aspire 3 Intel Core i3 12th Gen 1215U - (...</td>\n",
       "      <td>Acer</td>\n",
       "      <td>4.1</td>\n",
       "      <td>35</td>\n",
       "      <td>28990</td>\n",
       "      <td>INR</td>\n",
       "    </tr>\n",
       "    <tr>\n",
       "      <th>3</th>\n",
       "      <td>Acer Swift Go 14 EVO OLED Intel Core i5 13th G...</td>\n",
       "      <td>Acer</td>\n",
       "      <td>4.3</td>\n",
       "      <td>115</td>\n",
       "      <td>59990</td>\n",
       "      <td>INR</td>\n",
       "    </tr>\n",
       "    <tr>\n",
       "      <th>4</th>\n",
       "      <td>CHUWI Intel Core i5 10th Gen 1035G1 - (16 GB/5...</td>\n",
       "      <td>CHUWI</td>\n",
       "      <td>4.2</td>\n",
       "      <td>29</td>\n",
       "      <td>24990</td>\n",
       "      <td>INR</td>\n",
       "    </tr>\n",
       "  </tbody>\n",
       "</table>\n",
       "</div>"
      ],
      "text/plain": [
       "                                        product_name brand_name  \\\n",
       "0  ASUS Chromebook Intel Celeron Dual Core N4500 ...       ASUS   \n",
       "1  DELL Inspiron 3520 Intel Core i3 12th Gen 1215...       DELL   \n",
       "2  Acer Aspire 3 Intel Core i3 12th Gen 1215U - (...       Acer   \n",
       "3  Acer Swift Go 14 EVO OLED Intel Core i5 13th G...       Acer   \n",
       "4  CHUWI Intel Core i5 10th Gen 1035G1 - (16 GB/5...      CHUWI   \n",
       "\n",
       "   aggregate_rating  review_count  price price_currency  \n",
       "0               3.8            95  15990            INR  \n",
       "1               4.2           144  35560            INR  \n",
       "2               4.1            35  28990            INR  \n",
       "3               4.3           115  59990            INR  \n",
       "4               4.2            29  24990            INR  "
      ]
     },
     "execution_count": 8,
     "metadata": {},
     "output_type": "execute_result"
    }
   ],
   "source": [
    "df = pd.read_json('./temp.json', lines=True)\n",
    "df.head()"
   ]
  },
  {
   "cell_type": "code",
   "execution_count": 9,
   "metadata": {},
   "outputs": [],
   "source": [
    "df['price'] = pd.to_numeric(df['price'], errors='coerce')\n",
    "\n",
    "df.to_csv('processed_data.csv', index=False)"
   ]
  }
 ],
 "metadata": {
  "kernelspec": {
   "display_name": ".venv",
   "language": "python",
   "name": "python3"
  },
  "language_info": {
   "codemirror_mode": {
    "name": "ipython",
    "version": 3
   },
   "file_extension": ".py",
   "mimetype": "text/x-python",
   "name": "python",
   "nbconvert_exporter": "python",
   "pygments_lexer": "ipython3",
   "version": "3.10.12"
  }
 },
 "nbformat": 4,
 "nbformat_minor": 2
}
